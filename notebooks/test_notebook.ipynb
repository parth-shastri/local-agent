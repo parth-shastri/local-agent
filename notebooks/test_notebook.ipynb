{
 "cells": [
  {
   "cell_type": "code",
   "execution_count": 1,
   "metadata": {},
   "outputs": [],
   "source": [
    "# A class to query the ollama service running on the localhost\n",
    "import requests\n",
    "import json\n",
    "\n",
    "\n",
    "class OllamaModel:\n",
    "    def __init__(self, model, system_prompt, temperature=0, stop=None):\n",
    "        \"\"\"\n",
    "        Init the OllamaModel with the given parameters\n",
    "\n",
    "        Parameters:\n",
    "            model (str): The name of the model to use.\n",
    "            system_prompt (str): The system prompt to use.\n",
    "            temperature (float): The temperature setting for the model.\n",
    "            stop (str): The stop token for the model.\n",
    "        \"\"\"\n",
    "        self.model_endpoint = \"http://localhost:11434/api/generate\"\n",
    "        self.temperature = temperature\n",
    "        self.model = model\n",
    "        self.system_prompt = system_prompt\n",
    "        self.stop = stop\n",
    "        self.headers = {\"Content-Type\": \"application/json\"}\n",
    "\n",
    "    def generate_text(self, prompt):\n",
    "        \"\"\"\n",
    "        Generates response from the Ollama model, based on the provided prompt.\n",
    "        \"\"\"\n",
    "        payload = {\n",
    "            \"model\": self.model,\n",
    "            \"format\": \"json\",\n",
    "            \"prompt\": prompt,\n",
    "            \"system_prompt\": self.system_prompt,\n",
    "            \"stream\": False,\n",
    "            \"temperature\": self.temperature,\n",
    "            \"stop\": self.stop,\n",
    "        }\n",
    "\n",
    "        try:\n",
    "            request_response = requests.post(\n",
    "                self.model_endpoint,\n",
    "                headers=self.headers,\n",
    "                data=json.dumps(payload),\n",
    "            )\n",
    "            print(f\"REQUEST RESPONSE: {request_response}\")\n",
    "            request_response_json = request_response.json()\n",
    "            response = request_response_json[\"response\"]\n",
    "            response_dict = json.loads(response)\n",
    "\n",
    "            print(f\"\\n\\nResponse from OllamaModel::{self.model}={response_dict}\")\n",
    "\n",
    "            return response_dict\n",
    "\n",
    "        except requests.RequestException as e:\n",
    "            response = {\"error\": f\"Error in invoking the model: {str(e)}\"}\n",
    "\n",
    "            return response"
   ]
  },
  {
   "cell_type": "code",
   "execution_count": 2,
   "metadata": {},
   "outputs": [],
   "source": [
    "model_instance = OllamaModel(\n",
    "    model='phi3',\n",
    "    system_prompt=\"\"\"You are a chatbot that answers use queries with utmost honesty. Please reply that you don't know if you dont know the answer to the user query.\"\"\",\n",
    "    temperature=0.1,\n",
    "    stop=None\n",
    ")"
   ]
  },
  {
   "cell_type": "code",
   "execution_count": 3,
   "metadata": {},
   "outputs": [
    {
     "name": "stdout",
     "output_type": "stream",
     "text": [
      "REQUEST RESPONSE: <Response [200]>\n",
      "\n",
      "\n",
      "Response from OllamaModel::phi3={'response': 'The 16th President of the United States was Abraham Lincoln.'}\n"
     ]
    }
   ],
   "source": [
    "response_dict = model_instance.generate_text(\"What is the name of the 16th US president ?\")"
   ]
  }
 ],
 "metadata": {
  "kernelspec": {
   "display_name": "my_master",
   "language": "python",
   "name": "python3"
  },
  "language_info": {
   "codemirror_mode": {
    "name": "ipython",
    "version": 3
   },
   "file_extension": ".py",
   "mimetype": "text/x-python",
   "name": "python",
   "nbconvert_exporter": "python",
   "pygments_lexer": "ipython3",
   "version": "3.10.14"
  }
 },
 "nbformat": 4,
 "nbformat_minor": 2
}
