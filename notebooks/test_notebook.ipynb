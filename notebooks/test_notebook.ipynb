{
 "cells": [
  {
   "cell_type": "code",
   "execution_count": 1,
   "metadata": {},
   "outputs": [],
   "source": [
    "import sys\n",
    "import os\n",
    "sys.path.append(os.path.dirname(os.path.abspath(\"./\")))\n",
    "from src.models.ollama_model import OllamaModel\n",
    "from src.tools.base import Tool"
   ]
  },
  {
   "cell_type": "code",
   "execution_count": 2,
   "metadata": {},
   "outputs": [],
   "source": [
    "model_service = OllamaModel(\n",
    "    model=\"mistral-nemo:latest\",\n",
    "    system_prompt=\"You are a helpful assistant!\",\n",
    "    is_tool_use_model=True\n",
    ")"
   ]
  },
  {
   "cell_type": "code",
   "execution_count": 3,
   "metadata": {},
   "outputs": [
    {
     "name": "stdout",
     "output_type": "stream",
     "text": [
      "REQUEST RESPONSE: 200\n",
      "\n",
      "\n",
      "Response from OllamaModel::mistral-nemo:latest={'name': 'Narendra Modi', 'position': 'Prime Minister of India', 'country': 'India'}\n"
     ]
    }
   ],
   "source": [
    "# check the generate method\n",
    "response = model_service.generate_text_api_call(\"Who is the Prime minister of India?\")"
   ]
  },
  {
   "cell_type": "code",
   "execution_count": 4,
   "metadata": {},
   "outputs": [],
   "source": [
    "def add(num1: int, num2: int) -> int:\n",
    "    \"adds two int\"\n",
    "    return num1 + num2\n",
    "\n",
    "\n",
    "add_tool = Tool.from_function(function=add, return_direct=False)"
   ]
  },
  {
   "cell_type": "code",
   "execution_count": 5,
   "metadata": {},
   "outputs": [
    {
     "name": "stdout",
     "output_type": "stream",
     "text": [
      "[{'role': 'system', 'content': 'You are a helpful assistant!'}, {'role': 'user', 'content': 'What is 3789 + 1024?'}]\n",
      "{'model': 'mistral-nemo:latest', 'created_at': '2024-09-13T13:44:25.55098272Z', 'message': {'role': 'assistant', 'content': 'The sum of 3789 and 1024 is 4813.'}, 'done_reason': 'stop', 'done': True, 'total_duration': 437436089, 'load_duration': 11862182, 'prompt_eval_count': 52, 'prompt_eval_duration': 23468000, 'eval_count': 22, 'eval_duration': 277290000}\n"
     ]
    }
   ],
   "source": [
    "response = model_service.chat({\"role\": \"user\", \"content\": \"What is 3789 + 1024?\"}, tools=[add_tool])"
   ]
  },
  {
   "cell_type": "code",
   "execution_count": 6,
   "metadata": {},
   "outputs": [
    {
     "data": {
      "text/plain": [
       "{'role': 'assistant', 'content': 'The sum of 3789 and 1024 is 4813.'}"
      ]
     },
     "execution_count": 6,
     "metadata": {},
     "output_type": "execute_result"
    }
   ],
   "source": [
    "response"
   ]
  },
  {
   "cell_type": "markdown",
   "metadata": {},
   "source": [
    "## Test Agent"
   ]
  },
  {
   "cell_type": "code",
   "execution_count": 7,
   "metadata": {},
   "outputs": [],
   "source": [
    "from src.agents.function_calling_agent import FunctionCallingAgent\n",
    "\n",
    "function_calling_agent = FunctionCallingAgent(\n",
    "    model_name='llama3.1:latest',\n",
    "    model_service=\"ollama\",\n",
    "    tools=[add_tool],\n",
    "    stop_token=None,\n",
    "    system_prompt=\"You are a helpful assistant!\"\n",
    ")"
   ]
  },
  {
   "cell_type": "code",
   "execution_count": 8,
   "metadata": {},
   "outputs": [
    {
     "name": "stdout",
     "output_type": "stream",
     "text": [
      "[{'role': 'system', 'content': 'You are a helpful assistant!'}, {'role': 'user', 'content': 'What is 3789 + 1024?'}]\n",
      "{'model': 'llama3.1:latest', 'created_at': '2024-09-13T13:44:35.136674384Z', 'message': {'role': 'assistant', 'content': '', 'tool_calls': [{'function': {'name': 'add', 'arguments': {'a': '3789', 'b': '1024'}}}]}, 'done_reason': 'stop', 'done': True, 'total_duration': 374747130, 'load_duration': 10307577, 'prompt_eval_count': 146, 'prompt_eval_duration': 29867000, 'eval_count': 24, 'eval_duration': 211600000}\n",
      "\u001b[91mEncountered Validation Error, retrying execution: 2 validation errors for add\n",
      "num1\n",
      "  Field required [type=missing, input_value={'a': '3789', 'b': '1024'}, input_type=dict]\n",
      "    For further information visit https://errors.pydantic.dev/2.9/v/missing\n",
      "num2\n",
      "  Field required [type=missing, input_value={'a': '3789', 'b': '1024'}, input_type=dict]\n",
      "    For further information visit https://errors.pydantic.dev/2.9/v/missing\u001b[0m\n",
      "[{'role': 'system', 'content': 'You are a helpful assistant!'}, {'role': 'user', 'content': 'What is 3789 + 1024?'}]\n",
      "{'model': 'llama3.1:latest', 'created_at': '2024-09-13T13:44:35.521331706Z', 'message': {'role': 'assistant', 'content': '', 'tool_calls': [{'function': {'name': 'add', 'arguments': {'num1': 3789, 'num2': 1024}}}]}, 'done_reason': 'stop', 'done': True, 'total_duration': 359679022, 'load_duration': 9055316, 'prompt_eval_count': 146, 'prompt_eval_duration': 11024000, 'eval_count': 25, 'eval_duration': 215970000}\n",
      "\u001b[92mModel Response: {'role': 'assistant', 'content': '', 'tool_calls': [{'function': {'name': 'add', 'arguments': {'num1': 3789, 'num2': 1024}}}]}\u001b[0m\n",
      "{'role': 'tool', 'content': '4813'} [{'role': 'user', 'content': 'What is 3789 + 1024?'}, {'role': 'assistant', 'content': '', 'tool_calls': [{'function': {'name': 'add', 'arguments': {'num1': 3789, 'num2': 1024}}}]}]\n",
      "[{'role': 'system', 'content': 'You are a helpful assistant!'}, {'role': 'user', 'content': 'What is 3789 + 1024?'}, {'role': 'assistant', 'content': '', 'tool_calls': [{'function': {'name': 'add', 'arguments': {'num1': 3789, 'num2': 1024}}}]}, {'role': 'tool', 'content': '4813'}]\n",
      "{'model': 'llama3.1:latest', 'created_at': '2024-09-13T13:44:35.866574414Z', 'message': {'role': 'assistant', 'content': 'The result of the calculation is 4813.'}, 'done_reason': 'stop', 'done': True, 'total_duration': 320842687, 'load_duration': 9003915, 'prompt_eval_count': 64, 'prompt_eval_duration': 15071000, 'eval_count': 11, 'eval_duration': 90277000}\n"
     ]
    },
    {
     "data": {
      "text/plain": [
       "'The result of the calculation is 4813.'"
      ]
     },
     "execution_count": 8,
     "metadata": {},
     "output_type": "execute_result"
    }
   ],
   "source": [
    "function_calling_agent.chat(\"What is 3789 + 1024?\", max_retries=3)"
   ]
  }
 ],
 "metadata": {
  "kernelspec": {
   "display_name": "my_master",
   "language": "python",
   "name": "python3"
  },
  "language_info": {
   "codemirror_mode": {
    "name": "ipython",
    "version": 3
   },
   "file_extension": ".py",
   "mimetype": "text/x-python",
   "name": "python",
   "nbconvert_exporter": "python",
   "pygments_lexer": "ipython3",
   "version": "3.10.12"
  }
 },
 "nbformat": 4,
 "nbformat_minor": 2
}
