{
 "cells": [
  {
   "cell_type": "code",
   "execution_count": 4,
   "metadata": {},
   "outputs": [],
   "source": [
    "import sys\n",
    "import os\n",
    "from llama_cpp import Llama\n",
    "from llama_cpp.llama_tokenizer import LlamaHFTokenizer\n",
    "\n",
    "sys.path.append(os.path.dirname(os.path.abspath(\"./\")))\n",
    "from src.tools import model_tools\n",
    "from src.tools.base import Tool\n",
    "\n",
    "from warnings import filterwarnings\n",
    "\n",
    "filterwarnings('ignore')"
   ]
  },
  {
   "cell_type": "code",
   "execution_count": 2,
   "metadata": {},
   "outputs": [
    {
     "name": "stderr",
     "output_type": "stream",
     "text": [
      "Special tokens have been added in the vocabulary, make sure the associated word embeddings are fine-tuned or trained.\n"
     ]
    }
   ],
   "source": [
    "model = Llama.from_pretrained(\n",
    "    repo_id=\"meetkai/functionary-small-v2.4-GGUF\",\n",
    "    filename=\"functionary-small-v2.4.Q4_0.gguf\",\n",
    "    chat_format=\"functionary-v2\",\n",
    "    tokenizer=LlamaHFTokenizer.from_pretrained(\"meetkai/functionary-small-v2.4-GGUF\"),\n",
    "    n_gpu_layers=-1,\n",
    "    n_threads=16,\n",
    "    n_ctx=4096,\n",
    "    verbose=False,\n",
    ")"
   ]
  },
  {
   "cell_type": "code",
   "execution_count": 5,
   "metadata": {},
   "outputs": [],
   "source": [
    "# get tools\n",
    "tool_list = []\n",
    "for tool in model_tools.__all__:\n",
    "    tool_list.append(Tool.from_function(function=getattr(model_tools, tool)))\n",
    "\n",
    "openai_tools = [tool.to_openai_tool() for tool in tool_list]"
   ]
  },
  {
   "cell_type": "code",
   "execution_count": 4,
   "metadata": {},
   "outputs": [
    {
     "data": {
      "text/plain": [
       "[{'type': 'function',\n",
       "  'function': {'name': 'multiply',\n",
       "   'description': 'multiply(a: int, b: int) -> int\\nMultiplies two integers and returns the result integer.\\n\\n    Args:\\n        a (int): The first integer.\\n        b (int): The second integer.\\n\\n    Returns:\\n        int: The product of a and b.\\n    ',\n",
       "   'parameters': {'properties': {'a': {'title': 'A', 'type': 'integer'},\n",
       "     'b': {'title': 'B', 'type': 'integer'}},\n",
       "    'required': ['a', 'b'],\n",
       "    'type': 'object'}}},\n",
       " {'type': 'function',\n",
       "  'function': {'name': 'add',\n",
       "   'description': 'add(a: int, b: int) -> int\\nAdd two integers and returns the result integer.\\n\\n    Args:\\n        a (int): The first integer.\\n        b (int): The second integer.\\n\\n    Returns:\\n        int: The sum of a and b\\n    ',\n",
       "   'parameters': {'properties': {'a': {'title': 'A', 'type': 'integer'},\n",
       "     'b': {'title': 'B', 'type': 'integer'}},\n",
       "    'required': ['a', 'b'],\n",
       "    'type': 'object'}}},\n",
       " {'type': 'function',\n",
       "  'function': {'name': 'subtract',\n",
       "   'description': 'subtract(a: int, b: int) -> int\\nSubtract two integers and returns the result integer\\n\\n    Args:\\n        a (int): The first integer.\\n        b (int): The second integer.\\n\\n    Returns:\\n        int: The sum of a and b\\n    ',\n",
       "   'parameters': {'properties': {'a': {'title': 'A', 'type': 'integer'},\n",
       "     'b': {'title': 'B', 'type': 'integer'}},\n",
       "    'required': ['a', 'b'],\n",
       "    'type': 'object'}}},\n",
       " {'type': 'function',\n",
       "  'function': {'name': 'divide',\n",
       "   'description': 'divide(a: int, b: int) -> int\\nDivides two integers and returns the result integer.\\n\\n    Args:\\n        a (int): The first integer.\\n        b (int): The second integer.\\n\\n    Returns:\\n        int: The quotient of a divided by b.\\n    ',\n",
       "   'parameters': {'properties': {'a': {'title': 'A', 'type': 'integer'},\n",
       "     'b': {'title': 'B', 'type': 'integer'}},\n",
       "    'required': ['a', 'b'],\n",
       "    'type': 'object'}}}]"
      ]
     },
     "execution_count": 4,
     "metadata": {},
     "output_type": "execute_result"
    }
   ],
   "source": [
    "openai_tools"
   ]
  },
  {
   "cell_type": "code",
   "execution_count": 5,
   "metadata": {},
   "outputs": [],
   "source": [
    "response = model.create_chat_completion(\n",
    "    messages=[\n",
    "        # {\"role\": \"system\", \"content\": \"You are a helpul assistant\"},\n",
    "        {\"role\": \"user\", \"content\": \"What is 1 + 1\"},\n",
    "        # {\n",
    "        #     \"role\": \"assistant\",\n",
    "        #     \"content\": \"\",\n",
    "        #     \"tool_calls\": [\n",
    "        #         {\n",
    "        #             \"type\": \"function\",\n",
    "        #             \"function\": {\"name\": \"add\", \"arguments\": '{\"a\": 1, \"b\": 1}'},\n",
    "        #         }\n",
    "        #     ],\n",
    "        # },\n",
    "        # {\"tool_call_id\": \"abdc\", \"role\": \"tool\", \"name\": \"add\", \"content\": \"2\"}\n",
    "    ],\n",
    "    tools=openai_tools,\n",
    "    tool_choice=\"auto\",\n",
    "    max_tokens=2048\n",
    ")\n",
    "\n",
    "\n",
    "# Works both on chat and tool-use ?"
   ]
  },
  {
   "cell_type": "code",
   "execution_count": 7,
   "metadata": {},
   "outputs": [
    {
     "data": {
      "text/plain": [
       "[{'index': 0,\n",
       "  'logprobs': None,\n",
       "  'message': {'role': 'assistant',\n",
       "   'content': None,\n",
       "   'tool_calls': [{'id': 'call_dPOpF6F9AK1EWHC2KG5L0dC4',\n",
       "     'type': 'function',\n",
       "     'function': {'name': 'assistant\\n<|recipient|> add',\n",
       "      'arguments': '{\"a\": 1, \"b\": 1}'}}]},\n",
       "  'finish_reason': 'tool_calls'}]"
      ]
     },
     "execution_count": 7,
     "metadata": {},
     "output_type": "execute_result"
    }
   ],
   "source": [
    "response['choices']"
   ]
  },
  {
   "cell_type": "code",
   "execution_count": 8,
   "metadata": {},
   "outputs": [
    {
     "name": "stderr",
     "output_type": "stream",
     "text": [
      "Special tokens have been added in the vocabulary, make sure the associated word embeddings are fine-tuned or trained.\n"
     ]
    },
    {
     "data": {
      "text/plain": [
       "True"
      ]
     },
     "execution_count": 8,
     "metadata": {},
     "output_type": "execute_result"
    }
   ],
   "source": [
    "from tokenizers import Tokenizer\n",
    "from transformers import PreTrainedTokenizerBase\n",
    "\n",
    "tokenizer = LlamaHFTokenizer.from_pretrained(\n",
    "    \"meetkai/functionary-small-v2.4-GGUF\"\n",
    "    )\n",
    "\n",
    "isinstance(tokenizer.hf_tokenizer, PreTrainedTokenizerBase)\n"
   ]
  },
  {
   "cell_type": "code",
   "execution_count": 12,
   "metadata": {},
   "outputs": [
    {
     "name": "stdout",
     "output_type": "stream",
     "text": [
      "[1, 851, 349, 574, 11510]\n",
      "['▁This', '▁is', '▁your', '▁prompt']\n"
     ]
    }
   ],
   "source": [
    "print(tokenizer.hf_tokenizer.encode(\"This is your prompt\"))\n",
    "print(tokenizer.hf_tokenizer.tokenize(\"This is your prompt\"))   # tokenization "
   ]
  },
  {
   "cell_type": "code",
   "execution_count": 14,
   "metadata": {},
   "outputs": [
    {
     "data": {
      "text/plain": [
       "LlamaTokenizerFast(name_or_path='meetkai/functionary-small-v2.4-GGUF', vocab_size=32000, model_max_length=8192, is_fast=True, padding_side='left', truncation_side='right', special_tokens={'bos_token': '<s>', 'eos_token': '</s>', 'unk_token': '<unk>', 'pad_token': '</s>', 'additional_special_tokens': ['<|from|>', '<|recipient|>', '<|content|>', '<|stop|>']}, clean_up_tokenization_spaces=False),  added_tokens_decoder={\n",
       "\t0: AddedToken(\"<unk>\", rstrip=False, lstrip=False, single_word=False, normalized=False, special=True),\n",
       "\t1: AddedToken(\"<s>\", rstrip=False, lstrip=False, single_word=False, normalized=False, special=True),\n",
       "\t2: AddedToken(\"</s>\", rstrip=False, lstrip=False, single_word=False, normalized=False, special=True),\n",
       "\t32000: AddedToken(\"<|from|>\", rstrip=False, lstrip=False, single_word=False, normalized=False, special=True),\n",
       "\t32001: AddedToken(\"<|recipient|>\", rstrip=False, lstrip=False, single_word=False, normalized=False, special=True),\n",
       "\t32002: AddedToken(\"<|content|>\", rstrip=False, lstrip=False, single_word=False, normalized=False, special=True),\n",
       "\t32003: AddedToken(\"<|stop|>\", rstrip=False, lstrip=False, single_word=False, normalized=False, special=True),\n",
       "}"
      ]
     },
     "execution_count": 14,
     "metadata": {},
     "output_type": "execute_result"
    }
   ],
   "source": [
    "tokenizer.hf_tokenizer"
   ]
  },
  {
   "cell_type": "markdown",
   "metadata": {},
   "source": [
    "## Test our model"
   ]
  },
  {
   "cell_type": "code",
   "execution_count": 1,
   "metadata": {},
   "outputs": [
    {
     "name": "stderr",
     "output_type": "stream",
     "text": [
      "/media/ostrich/ubuntu/my_projects/local-agent/agents/lib/python3.10/site-packages/tqdm/auto.py:21: TqdmWarning: IProgress not found. Please update jupyter and ipywidgets. See https://ipywidgets.readthedocs.io/en/stable/user_install.html\n",
      "  from .autonotebook import tqdm as notebook_tqdm\n",
      "Special tokens have been added in the vocabulary, make sure the associated word embeddings are fine-tuned or trained.\n",
      "llama_model_loader: loaded meta data with 25 key-value pairs and 291 tensors from /home/ostrich/.cache/huggingface/hub/models--meetkai--functionary-small-v2.4-GGUF/snapshots/014f6b16865981c97b5c8f8d763e96960ed11371/./functionary-small-v2.4.Q4_0.gguf (version GGUF V3 (latest))\n",
      "llama_model_loader: Dumping metadata keys/values. Note: KV overrides do not apply in this output.\n",
      "llama_model_loader: - kv   0:                       general.architecture str              = llama\n",
      "llama_model_loader: - kv   1:                               general.name str              = .\n",
      "llama_model_loader: - kv   2:                           llama.vocab_size u32              = 32004\n",
      "llama_model_loader: - kv   3:                       llama.context_length u32              = 32768\n",
      "llama_model_loader: - kv   4:                     llama.embedding_length u32              = 4096\n",
      "llama_model_loader: - kv   5:                          llama.block_count u32              = 32\n",
      "llama_model_loader: - kv   6:                  llama.feed_forward_length u32              = 14336\n",
      "llama_model_loader: - kv   7:                 llama.rope.dimension_count u32              = 128\n",
      "llama_model_loader: - kv   8:                 llama.attention.head_count u32              = 32\n",
      "llama_model_loader: - kv   9:              llama.attention.head_count_kv u32              = 8\n",
      "llama_model_loader: - kv  10:     llama.attention.layer_norm_rms_epsilon f32              = 0.000010\n",
      "llama_model_loader: - kv  11:                       llama.rope.freq_base f32              = 1000000.000000\n",
      "llama_model_loader: - kv  12:                          general.file_type u32              = 2\n",
      "llama_model_loader: - kv  13:                       tokenizer.ggml.model str              = llama\n",
      "llama_model_loader: - kv  14:                      tokenizer.ggml.tokens arr[str,32004]   = [\"<unk>\", \"<s>\", \"</s>\", \"<0x00>\", \"<...\n",
      "llama_model_loader: - kv  15:                      tokenizer.ggml.scores arr[f32,32004]   = [0.000000, 0.000000, 0.000000, 0.0000...\n",
      "llama_model_loader: - kv  16:                  tokenizer.ggml.token_type arr[i32,32004]   = [2, 3, 3, 6, 6, 6, 6, 6, 6, 6, 6, 6, ...\n",
      "llama_model_loader: - kv  17:                tokenizer.ggml.bos_token_id u32              = 1\n",
      "llama_model_loader: - kv  18:                tokenizer.ggml.eos_token_id u32              = 2\n",
      "llama_model_loader: - kv  19:            tokenizer.ggml.unknown_token_id u32              = 0\n",
      "llama_model_loader: - kv  20:            tokenizer.ggml.padding_token_id u32              = 2\n",
      "llama_model_loader: - kv  21:               tokenizer.ggml.add_bos_token bool             = true\n",
      "llama_model_loader: - kv  22:               tokenizer.ggml.add_eos_token bool             = false\n",
      "llama_model_loader: - kv  23:                    tokenizer.chat_template str              = {% for message in messages %}\\n{% if m...\n",
      "llama_model_loader: - kv  24:               general.quantization_version u32              = 2\n",
      "llama_model_loader: - type  f32:   65 tensors\n",
      "llama_model_loader: - type q4_0:  225 tensors\n",
      "llama_model_loader: - type q6_K:    1 tensors\n",
      "llm_load_vocab: special tokens cache size = 7\n",
      "llm_load_vocab: token to piece cache size = 0.1637 MB\n",
      "llm_load_print_meta: format           = GGUF V3 (latest)\n",
      "llm_load_print_meta: arch             = llama\n",
      "llm_load_print_meta: vocab type       = SPM\n",
      "llm_load_print_meta: n_vocab          = 32004\n",
      "llm_load_print_meta: n_merges         = 0\n",
      "llm_load_print_meta: vocab_only       = 0\n",
      "llm_load_print_meta: n_ctx_train      = 32768\n",
      "llm_load_print_meta: n_embd           = 4096\n",
      "llm_load_print_meta: n_layer          = 32\n",
      "llm_load_print_meta: n_head           = 32\n",
      "llm_load_print_meta: n_head_kv        = 8\n",
      "llm_load_print_meta: n_rot            = 128\n",
      "llm_load_print_meta: n_swa            = 0\n",
      "llm_load_print_meta: n_embd_head_k    = 128\n",
      "llm_load_print_meta: n_embd_head_v    = 128\n",
      "llm_load_print_meta: n_gqa            = 4\n",
      "llm_load_print_meta: n_embd_k_gqa     = 1024\n",
      "llm_load_print_meta: n_embd_v_gqa     = 1024\n",
      "llm_load_print_meta: f_norm_eps       = 0.0e+00\n",
      "llm_load_print_meta: f_norm_rms_eps   = 1.0e-05\n",
      "llm_load_print_meta: f_clamp_kqv      = 0.0e+00\n",
      "llm_load_print_meta: f_max_alibi_bias = 0.0e+00\n",
      "llm_load_print_meta: f_logit_scale    = 0.0e+00\n",
      "llm_load_print_meta: n_ff             = 14336\n",
      "llm_load_print_meta: n_expert         = 0\n",
      "llm_load_print_meta: n_expert_used    = 0\n",
      "llm_load_print_meta: causal attn      = 1\n",
      "llm_load_print_meta: pooling type     = 0\n",
      "llm_load_print_meta: rope type        = 0\n",
      "llm_load_print_meta: rope scaling     = linear\n",
      "llm_load_print_meta: freq_base_train  = 1000000.0\n",
      "llm_load_print_meta: freq_scale_train = 1\n",
      "llm_load_print_meta: n_ctx_orig_yarn  = 32768\n",
      "llm_load_print_meta: rope_finetuned   = unknown\n",
      "llm_load_print_meta: ssm_d_conv       = 0\n",
      "llm_load_print_meta: ssm_d_inner      = 0\n",
      "llm_load_print_meta: ssm_d_state      = 0\n",
      "llm_load_print_meta: ssm_dt_rank      = 0\n",
      "llm_load_print_meta: ssm_dt_b_c_rms   = 0\n",
      "llm_load_print_meta: model type       = 7B\n",
      "llm_load_print_meta: model ftype      = Q4_0\n",
      "llm_load_print_meta: model params     = 7.24 B\n",
      "llm_load_print_meta: model size       = 3.83 GiB (4.54 BPW) \n",
      "llm_load_print_meta: general.name     = .\n",
      "llm_load_print_meta: BOS token        = 1 '<s>'\n",
      "llm_load_print_meta: EOS token        = 2 '</s>'\n",
      "llm_load_print_meta: UNK token        = 0 '<unk>'\n",
      "llm_load_print_meta: PAD token        = 2 '</s>'\n",
      "llm_load_print_meta: LF token         = 13 '<0x0A>'\n",
      "llm_load_print_meta: max token length = 48\n",
      "ggml_cuda_init: GGML_CUDA_FORCE_MMQ:    yes\n",
      "ggml_cuda_init: GGML_CUDA_FORCE_CUBLAS: no\n",
      "ggml_cuda_init: found 1 CUDA devices:\n",
      "  Device 0: NVIDIA GeForce RTX 4080, compute capability 8.9, VMM: yes\n",
      "llm_load_tensors: ggml ctx size =    0.27 MiB\n",
      "llm_load_tensors: offloading 32 repeating layers to GPU\n",
      "llm_load_tensors: offloading non-repeating layers to GPU\n",
      "llm_load_tensors: offloaded 33/33 layers to GPU\n",
      "llm_load_tensors:        CPU buffer size =    70.32 MiB\n",
      "llm_load_tensors:      CUDA0 buffer size =  3847.57 MiB\n",
      "..................................................................................................\n",
      "llama_new_context_with_model: n_ctx      = 4096\n",
      "llama_new_context_with_model: n_batch    = 512\n",
      "llama_new_context_with_model: n_ubatch   = 512\n",
      "llama_new_context_with_model: flash_attn = 0\n",
      "llama_new_context_with_model: freq_base  = 1000000.0\n",
      "llama_new_context_with_model: freq_scale = 1\n",
      "llama_kv_cache_init:      CUDA0 KV buffer size =   512.00 MiB\n",
      "llama_new_context_with_model: KV self size  =  512.00 MiB, K (f16):  256.00 MiB, V (f16):  256.00 MiB\n",
      "llama_new_context_with_model:  CUDA_Host  output buffer size =     0.12 MiB\n",
      "llama_new_context_with_model:      CUDA0 compute buffer size =   296.00 MiB\n",
      "llama_new_context_with_model:  CUDA_Host compute buffer size =    16.01 MiB\n",
      "llama_new_context_with_model: graph nodes  = 1030\n",
      "llama_new_context_with_model: graph splits = 2\n",
      "AVX = 1 | AVX_VNNI = 0 | AVX2 = 1 | AVX512 = 0 | AVX512_VBMI = 0 | AVX512_VNNI = 0 | AVX512_BF16 = 0 | FMA = 1 | NEON = 0 | SVE = 0 | ARM_FMA = 0 | F16C = 1 | FP16_VA = 0 | WASM_SIMD = 0 | BLAS = 1 | SSE3 = 1 | SSSE3 = 1 | VSX = 0 | MATMUL_INT8 = 0 | LLAMAFILE = 1 | \n",
      "Model metadata: {'tokenizer.chat_template': '{% for message in messages %}\\n{% if message[\\'role\\'] == \\'user\\' or message[\\'role\\'] == \\'system\\' %}\\n{{ \\'<|from|>\\' + message[\\'role\\'] + \\'\\n<|recipient|>all\\n<|content|>\\' + message[\\'content\\'] + \\'\\n\\' }}{% elif message[\\'role\\'] == \\'tool\\' %}\\n{{ \\'<|from|>\\' + message[\\'name\\'] + \\'\\n<|recipient|>all\\n<|content|>\\' + message[\\'content\\'] + \\'\\n\\' }}{% else %}\\n{% set contain_content=\\'no\\'%}\\n{% if message[\\'content\\'] is not none %}\\n{{ \\'<|from|>assistant\\n<|recipient|>all\\n<|content|>\\' + message[\\'content\\'] }}{% set contain_content=\\'yes\\'%}\\n{% endif %}\\n{% if \\'tool_calls\\' in message and message[\\'tool_calls\\'] is not none %}\\n{% for tool_call in message[\\'tool_calls\\'] %}\\n{% set prompt=\\'<|from|>assistant\\n<|recipient|>\\' + tool_call[\\'function\\'][\\'name\\'] + \\'\\n<|content|>\\' + tool_call[\\'function\\'][\\'arguments\\'] %}\\n{% if loop.index == 1 and contain_content == \"no\" %}\\n{{ prompt }}{% else %}\\n{{ \\'\\n\\' + prompt}}{% endif %}\\n{% endfor %}\\n{% endif %}\\n{{ \\'<|stop|>\\n\\' }}{% endif %}\\n{% endfor %}\\n{% if add_generation_prompt %}{{ \\'<|from|>assistant\\n<|recipient|>\\' }}{% endif %}', 'tokenizer.ggml.add_eos_token': 'false', 'tokenizer.ggml.padding_token_id': '2', 'tokenizer.ggml.unknown_token_id': '0', 'tokenizer.ggml.eos_token_id': '2', 'general.quantization_version': '2', 'tokenizer.ggml.model': 'llama', 'general.architecture': 'llama', 'llama.rope.freq_base': '1000000.000000', 'llama.context_length': '32768', 'general.name': '.', 'llama.vocab_size': '32004', 'general.file_type': '2', 'tokenizer.ggml.add_bos_token': 'true', 'llama.embedding_length': '4096', 'llama.feed_forward_length': '14336', 'llama.attention.layer_norm_rms_epsilon': '0.000010', 'llama.rope.dimension_count': '128', 'tokenizer.ggml.bos_token_id': '1', 'llama.attention.head_count': '32', 'llama.block_count': '32', 'llama.attention.head_count_kv': '8'}\n",
      "Available chat formats from metadata: chat_template.default\n"
     ]
    }
   ],
   "source": [
    "import sys\n",
    "import os\n",
    "\n",
    "sys.path.append(os.path.dirname(os.path.abspath(\"./\")))\n",
    "from src.models.llamacpp_model import LlamaCPPModel\n",
    "\n",
    "# repo_id=\"meetkai/functionary-small-v2.4-GGUF\",\n",
    "#     filename=\"functionary-small-v2.4.Q4_0.gguf\",\n",
    "#     chat_format=\"functionary-v2\",\n",
    "#     tokenizer=LlamaHFTokenizer.from_pretrained(\"meetkai/functionary-small-v2.4-GGUF\"),\n",
    "#     n_gpu_layers=-1,\n",
    "#     n_threads=16,\n",
    "#     n_ctx=4096,\n",
    "#     verbose=False,\n",
    "model = LlamaCPPModel(\n",
    "    model=\"meetkai/functionary-small-v2.4-GGUF\",\n",
    "    model_name=\"functionary-small-v2.4.Q4_0.gguf\",\n",
    "    chat_format=\"functionary-v2\",\n",
    "    max_new_tokens=1024,\n",
    "    context_window=4096,\n",
    "    temperature=0.01,\n",
    "    system_prompt=None,\n",
    "    verbose=True,\n",
    ")"
   ]
  },
  {
   "cell_type": "code",
   "execution_count": 7,
   "metadata": {},
   "outputs": [
    {
     "name": "stderr",
     "output_type": "stream",
     "text": [
      "Llama.generate: 556 prefix-match hit, remaining 12 prompt tokens to eval\n",
      "\n",
      "llama_print_timings:        load time =     113.28 ms\n",
      "llama_print_timings:      sample time =       0.12 ms /     6 runs   (    0.02 ms per token, 49586.78 tokens per second)\n",
      "llama_print_timings: prompt eval time =      21.91 ms /    12 tokens (    1.83 ms per token,   547.70 tokens per second)\n",
      "llama_print_timings:        eval time =      44.13 ms /     5 runs   (    8.83 ms per token,   113.30 tokens per second)\n",
      "llama_print_timings:       total time =      80.32 ms /    17 tokens\n"
     ]
    },
    {
     "name": "stdout",
     "output_type": "stream",
     "text": [
      "Input: [{'role': 'user', 'content': 'Who is the Prime Minister of India?'}]\n",
      "Failed to parse function body as JSON schema, falling back to default grammar\n",
      "'NoneType' object has no attribute 'get'\n",
      "root ::= object \n",
      "object ::= [{] ws object_11 [}] ws \n",
      "value ::= object | array | string | number | value_6 ws \n",
      "array ::= [[] ws array_15 []] ws \n",
      "string ::= [\"] string_18 [\"] ws \n",
      "number ::= number_19 number_39 number_57 ws \n",
      "value_6 ::= [t] [r] [u] [e] | [f] [a] [l] [s] [e] | [n] [u] [l] [l] \n",
      "ws ::= | [ ] | [<U+000A>] ws_77 \n",
      "object_8 ::= string [:] ws value object_10 \n",
      "object_9 ::= [,] ws string [:] ws value \n",
      "object_10 ::= object_9 object_10 | \n",
      "object_11 ::= object_8 | \n",
      "array_12 ::= value array_14 \n",
      "array_13 ::= [,] ws value \n",
      "array_14 ::= array_13 array_14 | \n",
      "array_15 ::= array_12 | \n",
      "string_16 ::= [^\"\\<U+0000>-<U+001F>] | [\\] string_17 \n",
      "string_17 ::= [\"\\bfnrt] | [u] [0-9a-fA-F] [0-9a-fA-F] [0-9a-fA-F] [0-9a-fA-F] \n",
      "string_18 ::= string_16 string_18 | \n",
      "number_19 ::= number_20 number_21 \n",
      "number_20 ::= [-] | \n",
      "number_21 ::= [0-9] | [1-9] number_36 \n",
      "number_22 ::= [0-9] | \n",
      "number_23 ::= [0-9] number_22 | \n",
      "number_24 ::= [0-9] number_23 | \n",
      "number_25 ::= [0-9] number_24 | \n",
      "number_26 ::= [0-9] number_25 | \n",
      "number_27 ::= [0-9] number_26 | \n",
      "number_28 ::= [0-9] number_27 | \n",
      "number_29 ::= [0-9] number_28 | \n",
      "number_30 ::= [0-9] number_29 | \n",
      "number_31 ::= [0-9] number_30 | \n",
      "number_32 ::= [0-9] number_31 | \n",
      "number_33 ::= [0-9] number_32 | \n",
      "number_34 ::= [0-9] number_33 | \n",
      "number_35 ::= [0-9] number_34 | \n",
      "number_36 ::= [0-9] number_35 | \n",
      "number_37 ::= [.] [0-9] number_38 \n",
      "number_38 ::= [0-9] number_38 | \n",
      "number_39 ::= number_37 | \n",
      "number_40 ::= [eE] number_41 [0-9] number_56 \n",
      "number_41 ::= [-+] | \n",
      "number_42 ::= [1-9] | \n",
      "number_43 ::= [1-9] number_42 | \n",
      "number_44 ::= [1-9] number_43 | \n",
      "number_45 ::= [1-9] number_44 | \n",
      "number_46 ::= [1-9] number_45 | \n",
      "number_47 ::= [1-9] number_46 | \n",
      "number_48 ::= [1-9] number_47 | \n",
      "number_49 ::= [1-9] number_48 | \n",
      "number_50 ::= [1-9] number_49 | \n",
      "number_51 ::= [1-9] number_50 | \n",
      "number_52 ::= [1-9] number_51 | \n",
      "number_53 ::= [1-9] number_52 | \n",
      "number_54 ::= [1-9] number_53 | \n",
      "number_55 ::= [1-9] number_54 | \n",
      "number_56 ::= [1-9] number_55 | \n",
      "number_57 ::= number_40 | \n",
      "ws_58 ::= [ <U+0009>] | \n",
      "ws_59 ::= [ <U+0009>] ws_58 | \n",
      "ws_60 ::= [ <U+0009>] ws_59 | \n",
      "ws_61 ::= [ <U+0009>] ws_60 | \n",
      "ws_62 ::= [ <U+0009>] ws_61 | \n",
      "ws_63 ::= [ <U+0009>] ws_62 | \n",
      "ws_64 ::= [ <U+0009>] ws_63 | \n",
      "ws_65 ::= [ <U+0009>] ws_64 | \n",
      "ws_66 ::= [ <U+0009>] ws_65 | \n",
      "ws_67 ::= [ <U+0009>] ws_66 | \n",
      "ws_68 ::= [ <U+0009>] ws_67 | \n",
      "ws_69 ::= [ <U+0009>] ws_68 | \n",
      "ws_70 ::= [ <U+0009>] ws_69 | \n",
      "ws_71 ::= [ <U+0009>] ws_70 | \n",
      "ws_72 ::= [ <U+0009>] ws_71 | \n",
      "ws_73 ::= [ <U+0009>] ws_72 | \n",
      "ws_74 ::= [ <U+0009>] ws_73 | \n",
      "ws_75 ::= [ <U+0009>] ws_74 | \n",
      "ws_76 ::= [ <U+0009>] ws_75 | \n",
      "ws_77 ::= [ <U+0009>] ws_76 | \n"
     ]
    },
    {
     "name": "stderr",
     "output_type": "stream",
     "text": [
      "Llama.generate: 571 prefix-match hit, remaining 4 prompt tokens to eval\n",
      "\n",
      "llama_print_timings:        load time =     113.28 ms\n",
      "llama_print_timings:      sample time =      31.49 ms /    21 runs   (    1.50 ms per token,   666.79 tokens per second)\n",
      "llama_print_timings: prompt eval time =       9.31 ms /     4 tokens (    2.33 ms per token,   429.60 tokens per second)\n",
      "llama_print_timings:        eval time =     172.65 ms /    20 runs   (    8.63 ms per token,   115.84 tokens per second)\n",
      "llama_print_timings:       total time =     272.55 ms /    24 tokens\n",
      "Llama.generate: 575 prefix-match hit, remaining 15 prompt tokens to eval\n",
      "\n",
      "llama_print_timings:        load time =     113.28 ms\n",
      "llama_print_timings:      sample time =       0.02 ms /     1 runs   (    0.02 ms per token, 55555.56 tokens per second)\n",
      "llama_print_timings: prompt eval time =      12.83 ms /    15 tokens (    0.86 ms per token,  1169.50 tokens per second)\n",
      "llama_print_timings:        eval time =       0.00 ms /     1 runs   (    0.00 ms per token,      inf tokens per second)\n",
      "llama_print_timings:       total time =      14.77 ms /    16 tokens\n"
     ]
    },
    {
     "name": "stdout",
     "output_type": "stream",
     "text": [
      "\u001b[93m\n",
      "[MODEL]: {'id': 'chatcmpl-e340f49e-6cd2-4886-98bf-9a410f47cd76', 'object': 'chat.completion', 'created': 1726715285, 'model': '/home/ostrich/.cache/huggingface/hub/models--meetkai--functionary-small-v2.4-GGUF/snapshots/014f6b16865981c97b5c8f8d763e96960ed11371/./functionary-small-v2.4.Q4_0.gguf', 'choices': [{'index': 0, 'logprobs': None, 'message': {'role': 'assistant', 'content': None, 'tool_calls': [{'id': 'call_O9YVfiRNgXMaFyyvuSQbpeRr', 'type': 'function', 'function': {'name': 'assistant\\n<|recipient|> all', 'arguments': '{\\n \"name\": \"Narendra Modi\"\\n}'}}]}, 'finish_reason': 'tool_calls'}], 'usage': {'prompt_tokens': 590, 'completion_tokens': 27, 'total_tokens': 591}}\n",
      "\u001b[0m\n"
     ]
    },
    {
     "ename": "KeyError",
     "evalue": "'assistant\\n<|recipient|> all'",
     "output_type": "error",
     "traceback": [
      "\u001b[0;31m---------------------------------------------------------------------------\u001b[0m",
      "\u001b[0;31mKeyError\u001b[0m                                  Traceback (most recent call last)",
      "Cell \u001b[0;32mIn[7], line 1\u001b[0m\n\u001b[0;32m----> 1\u001b[0m response \u001b[38;5;241m=\u001b[39m \u001b[43mmodel\u001b[49m\u001b[38;5;241;43m.\u001b[39;49m\u001b[43mchat\u001b[49m\u001b[43m(\u001b[49m\u001b[38;5;124;43m\"\u001b[39;49m\u001b[38;5;124;43mWho is the Prime Minister of India?\u001b[39;49m\u001b[38;5;124;43m\"\u001b[39;49m\u001b[43m,\u001b[49m\u001b[43m \u001b[49m\u001b[43mtools\u001b[49m\u001b[38;5;241;43m=\u001b[39;49m\u001b[43mtool_list\u001b[49m\u001b[43m)\u001b[49m\n",
      "File \u001b[0;32m/media/ostrich/ubuntu/my_projects/local-agent/src/models/llamacpp_model.py:201\u001b[0m, in \u001b[0;36mLlamaCPPModel.chat\u001b[0;34m(self, input, chat_history, tools)\u001b[0m\n\u001b[1;32m    199\u001b[0m tool_arguments \u001b[38;5;241m=\u001b[39m tool_response[\u001b[38;5;241m0\u001b[39m][\u001b[38;5;124m\"\u001b[39m\u001b[38;5;124mfunction\u001b[39m\u001b[38;5;124m\"\u001b[39m][\u001b[38;5;124m\"\u001b[39m\u001b[38;5;124marguments\u001b[39m\u001b[38;5;124m\"\u001b[39m]\n\u001b[1;32m    200\u001b[0m \u001b[38;5;66;03m# validate the response\u001b[39;00m\n\u001b[0;32m--> 201\u001b[0m called_tool \u001b[38;5;241m=\u001b[39m \u001b[43mtool_dict\u001b[49m\u001b[43m[\u001b[49m\u001b[43mtool_name\u001b[49m\u001b[43m]\u001b[49m\n\u001b[1;32m    202\u001b[0m args \u001b[38;5;241m=\u001b[39m \u001b[38;5;28mself\u001b[39m\u001b[38;5;241m.\u001b[39m_validate_structured_response(\n\u001b[1;32m    203\u001b[0m     response\u001b[38;5;241m=\u001b[39mtool_arguments, called_tool\u001b[38;5;241m=\u001b[39mcalled_tool\n\u001b[1;32m    204\u001b[0m )\n\u001b[1;32m    205\u001b[0m response \u001b[38;5;241m=\u001b[39m model_response\n",
      "\u001b[0;31mKeyError\u001b[0m: 'assistant\\n<|recipient|> all'"
     ]
    }
   ],
   "source": [
    "response = model.chat(\"Who is the Prime Minister of India?\", tools=tool_list)"
   ]
  }
 ],
 "metadata": {
  "kernelspec": {
   "display_name": "agents",
   "language": "python",
   "name": "python3"
  },
  "language_info": {
   "codemirror_mode": {
    "name": "ipython",
    "version": 3
   },
   "file_extension": ".py",
   "mimetype": "text/x-python",
   "name": "python",
   "nbconvert_exporter": "python",
   "pygments_lexer": "ipython3",
   "version": "3.10.12"
  }
 },
 "nbformat": 4,
 "nbformat_minor": 2
}
