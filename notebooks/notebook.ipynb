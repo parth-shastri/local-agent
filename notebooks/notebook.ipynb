{
 "cells": [
  {
   "cell_type": "code",
   "execution_count": null,
   "metadata": {},
   "outputs": [],
   "source": [
    "import sys\n",
    "import os\n",
    "sys.path.append(os.path.dirname(os.path.abspath(\"./\")))\n",
    "from src.tools.base import Tool\n",
    "from typing import Any, Callable, Type\n",
    "from inspect import signature\n",
    "from pydantic import create_model, BaseModel\n",
    "from pydantic.fields import FieldInfo"
   ]
  },
  {
   "cell_type": "code",
   "execution_count": 2,
   "metadata": {},
   "outputs": [],
   "source": [
    "# create a dynamic schema for the tool\n",
    "def _create_function_schema(fn: Callable, name: str) -> Type[BaseModel]:\n",
    "    \"\"\"Create a function schema from the fn\"\"\"\n",
    "    fields = {}\n",
    "    params = signature(fn).parameters\n",
    "    for param_name in params:\n",
    "        param_type = params[param_name].annotation\n",
    "        param_default = params[param_name].default\n",
    "\n",
    "        if param_type is params[param_name].empty:\n",
    "            param_type = Any\n",
    "\n",
    "        if param_default is params[param_name].empty:\n",
    "            # Required field\n",
    "            fields[param_name] = (param_type, FieldInfo())\n",
    "        elif isinstance(param_default, FieldInfo):\n",
    "            # Field with pydantic.Field as default value\n",
    "            fields[param_name] = (param_type, param_default)\n",
    "        else:\n",
    "            fields[param_name] = (param_type, FieldInfo(default=param_default))\n",
    "\n",
    "    return create_model(name, **fields)"
   ]
  },
  {
   "cell_type": "code",
   "execution_count": 3,
   "metadata": {},
   "outputs": [],
   "source": [
    "def add(a: int, b: int) -> int:\n",
    "    \"\"\"\n",
    "    Adds two input numbers\n",
    "    \"\"\"\n",
    "    return a + b\n",
    "\n",
    "def sub(a: int, b: int) -> int:\n",
    "    \"\"\"\n",
    "    Subtracts two numbers\n",
    "    \"\"\"\n",
    "    return a - b"
   ]
  },
  {
   "cell_type": "code",
   "execution_count": 4,
   "metadata": {},
   "outputs": [
    {
     "name": "stdout",
     "output_type": "stream",
     "text": [
      "{'add': Tool(func=<function add at 0x108338d60>, tool_name='add', tool_description='add(a: int, b: int) -> int\\n\\n    Adds two input numbers\\n    ', tool_schema=<class 'src.tools.base.add'>, return_direct=True), 'sub': Tool(func=<function sub at 0x108338e00>, tool_name='sub', tool_description='sub(a: int, b: int) -> int\\n\\n    Subtracts two numbers\\n    ', tool_schema=<class 'src.tools.base.sub'>, return_direct=True)}\n"
     ]
    }
   ],
   "source": [
    "add_tool = Tool.from_function(function=add)\n",
    "sub_tool = Tool.from_function(function=sub)\n",
    "\n",
    "tools = [add_tool, sub_tool]\n",
    "\n",
    "tool_dict = dict(map(lambda x: (x.tool_name, x), tools))\n",
    "\n",
    "print(tool_dict)"
   ]
  },
  {
   "cell_type": "code",
   "execution_count": 5,
   "metadata": {},
   "outputs": [
    {
     "data": {
      "text/plain": [
       "{'name': 'add',\n",
       " 'description': 'add(a: int, b: int) -> int\\n\\n    Adds two functions\\n    ',\n",
       " 'parameters': {'properties': {'a': {'title': 'A', 'type': 'integer'},\n",
       "   'b': {'title': 'B', 'type': 'integer'}},\n",
       "  'required': ['a', 'b'],\n",
       "  'type': 'object'}}"
      ]
     },
     "execution_count": 5,
     "metadata": {},
     "output_type": "execute_result"
    }
   ],
   "source": [
    "add_tool.to_openai_tool()"
   ]
  },
  {
   "cell_type": "code",
   "execution_count": null,
   "metadata": {},
   "outputs": [],
   "source": []
  }
 ],
 "metadata": {
  "kernelspec": {
   "display_name": "local_agent",
   "language": "python",
   "name": "python3"
  },
  "language_info": {
   "codemirror_mode": {
    "name": "ipython",
    "version": 3
   },
   "file_extension": ".py",
   "mimetype": "text/x-python",
   "name": "python",
   "nbconvert_exporter": "python",
   "pygments_lexer": "ipython3",
   "version": "3.11.9"
  }
 },
 "nbformat": 4,
 "nbformat_minor": 2
}
