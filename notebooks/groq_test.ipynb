{
 "cells": [
  {
   "cell_type": "code",
   "execution_count": 1,
   "metadata": {},
   "outputs": [
    {
     "name": "stdout",
     "output_type": "stream",
     "text": [
      "Loaded env variables: False\n"
     ]
    }
   ],
   "source": [
    "import sys\n",
    "import os\n",
    "from groq import Groq\n",
    "sys.path.append(os.path.dirname(os.path.abspath(\"./\")))\n",
    "from src.tools import model_tools\n",
    "from src.tools.base import Tool\n",
    "from configs.config import GROQ_API_KEY\n",
    "from dotenv import load_dotenv\n",
    "from warnings import filterwarnings\n",
    "\n",
    "filterwarnings(\"ignore\")"
   ]
  },
  {
   "cell_type": "code",
   "execution_count": 11,
   "metadata": {},
   "outputs": [
    {
     "data": {
      "text/plain": [
       "True"
      ]
     },
     "execution_count": 11,
     "metadata": {},
     "output_type": "execute_result"
    }
   ],
   "source": [
    "load_dotenv(\"../secrets/environments/local.env\")"
   ]
  },
  {
   "cell_type": "code",
   "execution_count": 2,
   "metadata": {},
   "outputs": [],
   "source": [
    "# get tools\n",
    "tool_list = []\n",
    "for tool in model_tools.__all__:\n",
    "    tool_list.append(Tool.from_function(function=getattr(model_tools, tool)))\n",
    "\n",
    "openai_tools = [tool.to_openai_tool() for tool in tool_list]"
   ]
  },
  {
   "cell_type": "code",
   "execution_count": 3,
   "metadata": {},
   "outputs": [
    {
     "data": {
      "text/plain": [
       "[{'type': 'function',\n",
       "  'function': {'name': 'multiply',\n",
       "   'description': 'multiply(a: int, b: int) -> int\\nMultiplies two integers and returns the result integer.\\n\\n    Args:\\n        a (int): The first integer.\\n        b (int): The second integer.\\n\\n    Returns:\\n        int: The product of a and b.\\n    ',\n",
       "   'parameters': {'properties': {'a': {'title': 'A', 'type': 'integer'},\n",
       "     'b': {'title': 'B', 'type': 'integer'}},\n",
       "    'required': ['a', 'b'],\n",
       "    'type': 'object'}}},\n",
       " {'type': 'function',\n",
       "  'function': {'name': 'add',\n",
       "   'description': 'add(a: int, b: int) -> int\\nAdd two integers and returns the result integer.\\n\\n    Args:\\n        a (int): The first integer.\\n        b (int): The second integer.\\n\\n    Returns:\\n        int: The sum of a and b\\n    ',\n",
       "   'parameters': {'properties': {'a': {'title': 'A', 'type': 'integer'},\n",
       "     'b': {'title': 'B', 'type': 'integer'}},\n",
       "    'required': ['a', 'b'],\n",
       "    'type': 'object'}}},\n",
       " {'type': 'function',\n",
       "  'function': {'name': 'subtract',\n",
       "   'description': 'subtract(a: int, b: int) -> int\\nSubtract two integers and returns the result integer\\n\\n    Args:\\n        a (int): The first integer.\\n        b (int): The second integer.\\n\\n    Returns:\\n        int: The sum of a and b\\n    ',\n",
       "   'parameters': {'properties': {'a': {'title': 'A', 'type': 'integer'},\n",
       "     'b': {'title': 'B', 'type': 'integer'}},\n",
       "    'required': ['a', 'b'],\n",
       "    'type': 'object'}}},\n",
       " {'type': 'function',\n",
       "  'function': {'name': 'divide',\n",
       "   'description': 'divide(a: int, b: int) -> int\\nDivides two integers and returns the result integer.\\n\\n    Args:\\n        a (int): The first integer.\\n        b (int): The second integer.\\n\\n    Returns:\\n        int: The quotient of a divided by b.\\n    ',\n",
       "   'parameters': {'properties': {'a': {'title': 'A', 'type': 'integer'},\n",
       "     'b': {'title': 'B', 'type': 'integer'}},\n",
       "    'required': ['a', 'b'],\n",
       "    'type': 'object'}}}]"
      ]
     },
     "execution_count": 3,
     "metadata": {},
     "output_type": "execute_result"
    }
   ],
   "source": [
    "openai_tools"
   ]
  },
  {
   "cell_type": "code",
   "execution_count": 14,
   "metadata": {},
   "outputs": [],
   "source": [
    "model_service = Groq(timeout=120.0)"
   ]
  },
  {
   "cell_type": "code",
   "execution_count": 32,
   "metadata": {},
   "outputs": [],
   "source": [
    "json_mode = False\n",
    "response = model_service.chat.completions.create(\n",
    "    model=\"llama-3.1-70b-versatile\",\n",
    "    messages=[\n",
    "        {\"role\": \"system\", \"content\": \"You are a helpful assistant\"},\n",
    "        {\"role\": \"user\", \"content\": \"What is 1 + 1?\"},\n",
    "        {\n",
    "            \"role\": \"assistant\",\n",
    "            \"content\": \"\",\n",
    "            \"tool_calls\": [\n",
    "                {\n",
    "                    \"id\": \"call_dhqx\",\n",
    "                    \"type\": \"function\",\n",
    "                    \"function\": {\"name\": \"add\", \"arguments\": '{\"a\": 1, \"b\": 1}'},\n",
    "                }\n",
    "            ],\n",
    "        },\n",
    "        {\"tool_call_id\": \"call_dhqx\", \"role\": \"tool\", \"name\": \"add\", \"content\": \"2\"},\n",
    "    ],\n",
    "    tools=openai_tools,\n",
    "    tool_choice=\"auto\",\n",
    "    response_format={\"type\": \"json_object\"} if json_mode else None,\n",
    "    stop=None,\n",
    ")"
   ]
  },
  {
   "cell_type": "code",
   "execution_count": 33,
   "metadata": {},
   "outputs": [
    {
     "data": {
      "text/plain": [
       "{'id': 'chatcmpl-39ec4a46-5604-43ae-b9ad-ba9ee37423f3',\n",
       " 'choices': [{'finish_reason': 'stop',\n",
       "   'index': 0,\n",
       "   'logprobs': None,\n",
       "   'message': {'content': 'The answer to 1 + 1 is 2.', 'role': 'assistant'}}],\n",
       " 'created': 1726585486,\n",
       " 'model': 'llama-3.1-70b-versatile',\n",
       " 'object': 'chat.completion',\n",
       " 'system_fingerprint': 'fp_5c5d1b5cfb',\n",
       " 'usage': {'completion_tokens': 13,\n",
       "  'prompt_tokens': 916,\n",
       "  'total_tokens': 929,\n",
       "  'completion_time': 0.052217544,\n",
       "  'prompt_time': 0.275113006,\n",
       "  'queue_time': 0.13091876800000002,\n",
       "  'total_time': 0.32733055},\n",
       " 'x_groq': {'id': 'req_01j8087emvennsc30yz6pxpstv'}}"
      ]
     },
     "execution_count": 33,
     "metadata": {},
     "output_type": "execute_result"
    }
   ],
   "source": [
    "response.to_dict()"
   ]
  }
 ],
 "metadata": {
  "kernelspec": {
   "display_name": "agents",
   "language": "python",
   "name": "python3"
  },
  "language_info": {
   "codemirror_mode": {
    "name": "ipython",
    "version": 3
   },
   "file_extension": ".py",
   "mimetype": "text/x-python",
   "name": "python",
   "nbconvert_exporter": "python",
   "pygments_lexer": "ipython3",
   "version": "3.10.12"
  }
 },
 "nbformat": 4,
 "nbformat_minor": 2
}
