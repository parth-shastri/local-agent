{
 "cells": [
  {
   "cell_type": "code",
   "execution_count": 1,
   "metadata": {},
   "outputs": [
    {
     "name": "stdout",
     "output_type": "stream",
     "text": [
      "Loaded env variables: False\n"
     ]
    }
   ],
   "source": [
    "import sys\n",
    "import os\n",
    "from groq import Groq\n",
    "sys.path.append(os.path.dirname(os.path.abspath(\"./\")))\n",
    "from src.tools import model_tools\n",
    "from src.tools.base import Tool\n",
    "from configs.config import GROQ_API_KEY\n",
    "from dotenv import load_dotenv\n",
    "from warnings import filterwarnings\n",
    "\n",
    "filterwarnings(\"ignore\")"
   ]
  },
  {
   "cell_type": "code",
   "execution_count": 2,
   "metadata": {},
   "outputs": [
    {
     "data": {
      "text/plain": [
       "True"
      ]
     },
     "execution_count": 2,
     "metadata": {},
     "output_type": "execute_result"
    }
   ],
   "source": [
    "load_dotenv(\"../secrets/environments/local.env\")"
   ]
  },
  {
   "cell_type": "code",
   "execution_count": 3,
   "metadata": {},
   "outputs": [],
   "source": [
    "# get tools\n",
    "tool_list = []\n",
    "for tool in model_tools.__all__:\n",
    "    tool_list.append(Tool.from_function(function=getattr(model_tools, tool)))\n",
    "\n",
    "openai_tools = [tool.to_openai_tool() for tool in tool_list]"
   ]
  },
  {
   "cell_type": "code",
   "execution_count": 4,
   "metadata": {},
   "outputs": [
    {
     "data": {
      "text/plain": [
       "[{'type': 'function',\n",
       "  'function': {'name': 'multiply',\n",
       "   'description': 'multiply(a: int, b: int) -> int\\nMultiplies two integers and returns the result integer.\\n\\n    Args:\\n        a (int): The first integer.\\n        b (int): The second integer.\\n\\n    Returns:\\n        int: The product of a and b.\\n    ',\n",
       "   'parameters': {'properties': {'a': {'title': 'A', 'type': 'integer'},\n",
       "     'b': {'title': 'B', 'type': 'integer'}},\n",
       "    'required': ['a', 'b'],\n",
       "    'type': 'object'}}},\n",
       " {'type': 'function',\n",
       "  'function': {'name': 'add',\n",
       "   'description': 'add(a: int, b: int) -> int\\nAdd two integers and returns the result integer.\\n\\n    Args:\\n        a (int): The first integer.\\n        b (int): The second integer.\\n\\n    Returns:\\n        int: The sum of a and b\\n    ',\n",
       "   'parameters': {'properties': {'a': {'title': 'A', 'type': 'integer'},\n",
       "     'b': {'title': 'B', 'type': 'integer'}},\n",
       "    'required': ['a', 'b'],\n",
       "    'type': 'object'}}},\n",
       " {'type': 'function',\n",
       "  'function': {'name': 'subtract',\n",
       "   'description': 'subtract(a: int, b: int) -> int\\nSubtract two integers and returns the result integer\\n\\n    Args:\\n        a (int): The first integer.\\n        b (int): The second integer.\\n\\n    Returns:\\n        int: The sum of a and b\\n    ',\n",
       "   'parameters': {'properties': {'a': {'title': 'A', 'type': 'integer'},\n",
       "     'b': {'title': 'B', 'type': 'integer'}},\n",
       "    'required': ['a', 'b'],\n",
       "    'type': 'object'}}},\n",
       " {'type': 'function',\n",
       "  'function': {'name': 'divide',\n",
       "   'description': 'divide(a: int, b: int) -> int\\nDivides two integers and returns the result integer.\\n\\n    Args:\\n        a (int): The first integer.\\n        b (int): The second integer.\\n\\n    Returns:\\n        int: The quotient of a divided by b.\\n    ',\n",
       "   'parameters': {'properties': {'a': {'title': 'A', 'type': 'integer'},\n",
       "     'b': {'title': 'B', 'type': 'integer'}},\n",
       "    'required': ['a', 'b'],\n",
       "    'type': 'object'}}}]"
      ]
     },
     "execution_count": 4,
     "metadata": {},
     "output_type": "execute_result"
    }
   ],
   "source": [
    "openai_tools"
   ]
  },
  {
   "cell_type": "code",
   "execution_count": 5,
   "metadata": {},
   "outputs": [],
   "source": [
    "model_service = Groq(\n",
    "    timeout=120.0, default_headers={\"Content-Type\": \"application/json\"}\n",
    ")"
   ]
  },
  {
   "cell_type": "code",
   "execution_count": 6,
   "metadata": {},
   "outputs": [],
   "source": [
    "json_mode = False\n",
    "response = model_service.chat.completions.create(\n",
    "    model=\"llama-3.1-70b-versatile\",\n",
    "    messages=[\n",
    "        {\"role\": \"system\", \"content\": \"You are a helpful assistant\"},\n",
    "        {\"role\": \"user\", \"content\": \"What is 1 + 1?\"},\n",
    "        {\n",
    "            \"role\": \"assistant\",\n",
    "            \"content\": \"\",\n",
    "            \"tool_calls\": [\n",
    "                {\n",
    "                    \"id\": \"call_dhqx\",\n",
    "                    \"type\": \"function\",\n",
    "                    \"function\": {\"name\": \"add\", \"arguments\": '{\"a\": 1, \"b\": 1}'},\n",
    "                }\n",
    "            ],\n",
    "        },\n",
    "        {\"tool_call_id\": \"call_dhqx\", \"role\": \"tool\", \"name\": \"add\", \"content\": \"2\"},\n",
    "    ],\n",
    "    tools=openai_tools,\n",
    "    tool_choice=\"auto\",\n",
    "    response_format={\"type\": \"json_object\"} if json_mode else None,\n",
    "    stop=None,\n",
    ")"
   ]
  },
  {
   "cell_type": "code",
   "execution_count": 7,
   "metadata": {},
   "outputs": [
    {
     "data": {
      "text/plain": [
       "{'id': 'chatcmpl-6d9276ee-042b-4d7e-96d7-77145aa6a84d',\n",
       " 'choices': [{'finish_reason': 'stop',\n",
       "   'index': 0,\n",
       "   'logprobs': None,\n",
       "   'message': {'content': 'The answer is 2.', 'role': 'assistant'}}],\n",
       " 'created': 1726736276,\n",
       " 'model': 'llama-3.1-70b-versatile',\n",
       " 'object': 'chat.completion',\n",
       " 'system_fingerprint': 'fp_b6828be2c9',\n",
       " 'usage': {'completion_tokens': 7,\n",
       "  'prompt_tokens': 916,\n",
       "  'total_tokens': 923,\n",
       "  'completion_time': 0.028147274,\n",
       "  'prompt_time': 0.265775336,\n",
       "  'queue_time': 0.013023072000000024,\n",
       "  'total_time': 0.29392261},\n",
       " 'x_groq': {'id': 'req_01j84r16qgedj8s3bjqqtgjdt3'}}"
      ]
     },
     "execution_count": 7,
     "metadata": {},
     "output_type": "execute_result"
    }
   ],
   "source": [
    "response.to_dict()"
   ]
  },
  {
   "cell_type": "code",
   "execution_count": 5,
   "metadata": {},
   "outputs": [],
   "source": [
    "import sys\n",
    "import os\n",
    "sys.path.append(os.path.dirname(os.path.abspath(\"./\")))\n",
    "from src.models.groq_model import GroqModel\n",
    "\n",
    "model = GroqModel(model=\"llama-3.1-70b-versatile\", is_tool_use_model=True, system_prompt=\"You are a helpful chat assistant\")"
   ]
  },
  {
   "cell_type": "code",
   "execution_count": 8,
   "metadata": {},
   "outputs": [
    {
     "name": "stdout",
     "output_type": "stream",
     "text": [
      "\u001b[93m\n",
      "[MODEL]: ChatCompletion(id='chatcmpl-368ea540-ab28-4152-b722-5d94df44de50', choices=[Choice(finish_reason='tool_calls', index=0, logprobs=None, message=ChatCompletionMessage(content=None, role='assistant', function_call=None, tool_calls=[ChatCompletionMessageToolCall(id='call_rfp7', function=Function(arguments='{\"a\": \"2\", \"b\": \"3\"}', name='add'), type='function'), ChatCompletionMessageToolCall(id='call_a75s', function=Function(arguments='{\"a\": \"5\", \"b\": \"4\"}', name='add'), type='function')]))], created=1726736754, model='llama-3.1-70b-versatile', object='chat.completion', system_fingerprint='fp_b3ae7e594e', usage=CompletionUsage(completion_tokens=37, prompt_tokens=891, total_tokens=928, completion_time=0.148823295, prompt_time=0.255935641, queue_time=0.005115148000000014, total_time=0.404758936), x_groq={'id': 'req_01j84rft92fqwsqag8dd9egx1c'})\n",
      "\u001b[0m\n"
     ]
    },
    {
     "data": {
      "text/plain": [
       "{'role': 'assistant',\n",
       " 'tool_calls': [{'id': 'call_rfp7',\n",
       "   'function': {'arguments': '{\"a\": \"2\", \"b\": \"3\"}', 'name': 'add'},\n",
       "   'type': 'function'},\n",
       "  {'id': 'call_a75s',\n",
       "   'function': {'arguments': '{\"a\": \"5\", \"b\": \"4\"}', 'name': 'add'},\n",
       "   'type': 'function'}]}"
      ]
     },
     "execution_count": 8,
     "metadata": {},
     "output_type": "execute_result"
    }
   ],
   "source": [
    "model.chat(\n",
    "    {\"role\": \"user\", \"content\": \"What is 2 + 3 + 4?\"},\n",
    "    tools=tool_list,\n",
    ")"
   ]
  }
 ],
 "metadata": {
  "kernelspec": {
   "display_name": "agents",
   "language": "python",
   "name": "python3"
  },
  "language_info": {
   "codemirror_mode": {
    "name": "ipython",
    "version": 3
   },
   "file_extension": ".py",
   "mimetype": "text/x-python",
   "name": "python",
   "nbconvert_exporter": "python",
   "pygments_lexer": "ipython3",
   "version": "3.10.12"
  }
 },
 "nbformat": 4,
 "nbformat_minor": 2
}
